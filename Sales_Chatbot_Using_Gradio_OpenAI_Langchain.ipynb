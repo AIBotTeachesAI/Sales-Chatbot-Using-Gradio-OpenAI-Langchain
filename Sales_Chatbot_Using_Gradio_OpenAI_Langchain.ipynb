{
 "cells": [
  {
   "cell_type": "code",
   "execution_count": null,
   "id": "981a2a4b-9375-4c2e-aa55-6182d4f73cc3",
   "metadata": {},
   "outputs": [],
   "source": []
  },
  {
   "cell_type": "markdown",
   "id": "c4e2e761-d8bc-4f0e-9bb2-062a37cc1ca8",
   "metadata": {},
   "source": [
    "### Use case \n",
    "\n",
    "Create a Customer service pre sales chatbot for a fictional company called AI Enchanted Innovations.\n",
    "\n",
    "Users will come to the website and ask questions about certain products.\n",
    "\n",
    "If the product is available in the knowledge base, the bot will respond with relevant information.\n",
    "\n",
    "If the product is not available, the bot will respond with 'We do not sell such product'\n",
    "\n"
   ]
  },
  {
   "cell_type": "markdown",
   "id": "a44fa298-a906-4af6-8000-ceb9d1e8e16e",
   "metadata": {},
   "source": [
    "### Knowledge Base Data available\n",
    "\n",
    "We will create a file called crib_description.txt.  We will store the product description.\n"
   ]
  },
  {
   "cell_type": "markdown",
   "id": "8045cce6-c09e-49a5-9666-3f79852136e1",
   "metadata": {},
   "source": [
    "### Libraries used \n",
    "\n",
    "gradio to create Chatbot UIs\n",
    "\n",
    "langchain to load the knowledge base, chunk it and store in vector store.\n",
    "\n",
    "FAISS for vector store and search\n",
    "\n",
    "open AI for embedding and chat responses\n",
    "\n"
   ]
  },
  {
   "cell_type": "markdown",
   "id": "682f830a-9d4e-4264-b6fc-b24ab1588cc5",
   "metadata": {},
   "source": [
    "### Install Gradio"
   ]
  },
  {
   "cell_type": "code",
   "execution_count": null,
   "id": "d8b7b632-de75-42b8-8d3a-440a2a49dd12",
   "metadata": {},
   "outputs": [],
   "source": [
    "#!pip install --upgrade gradio"
   ]
  },
  {
   "cell_type": "markdown",
   "id": "cba1134b-9a40-4c55-bd30-a3fab1ffb17b",
   "metadata": {},
   "source": [
    "### Install Langchain"
   ]
  },
  {
   "cell_type": "code",
   "execution_count": null,
   "id": "d54bc39a-3185-4c7f-91f2-d91fa5b926a1",
   "metadata": {},
   "outputs": [],
   "source": [
    "#!pip install langchain==0.1.0\n",
    "#!pip install langchain_openai\n",
    "#!pip install openai==1.7.1\n"
   ]
  },
  {
   "cell_type": "markdown",
   "id": "7f1a3726-44ba-4e0a-bc98-4701ef77fb3e",
   "metadata": {},
   "source": [
    "### Loading knowledgebase Documents"
   ]
  },
  {
   "cell_type": "code",
   "execution_count": 79,
   "id": "60e8f47a-efd4-4154-bebb-d2d1b0eecb05",
   "metadata": {},
   "outputs": [
    {
     "data": {
      "text/plain": [
       "[Document(page_content='Welcome to \"AI Enchanted Innovations,\" where the future of child care meets cutting-edge technology.\\n\\n\\n\\n1. The TransformEase AI Convertible Crib\\nDescription: Our TransformEase AI Convertible Crib is the ultimate sleep solution that grows with your child. Engineered with AI technology to soothe your baby with gentle rocking motions and serene lullabies, it seamlessly transitions from crib to toddler bed.\\nDimensions: 54\" L x 29\" W x 34\" H.\\nWeight: 50 lbs.\\nPrice: $699.\\n\\n\\n\\n\\n2. The SerenityNest AI Baby Bassinet\\nDescription: The SerenityNest AI Baby Bassinet cradles your newborn in comfort with smart temperature regulation and motion-sensing night lights. Its compact design and whisper-quiet operation ensure a peaceful slumber.\\nDimensions: 33\" L x 17\" W x 39\" H.\\nWeight: 18 lbs.\\nPrice: $399.\\n\\n\\n\\n3. The HiGrow AI High Chair\\nDescription: Introducing the HiGrow AI High Chair – a smart dining solution that adapts to your child\\'s growth. Equipped with spill-proof AI sensors, it facilitates tidy eating habits and offers interactive learning activities for mealtime fun.\\nDimensions: 22\" L x 21\" W x 37\" H.\\nWeight: 15 lbs.\\nPrice: $299.\\n\\n\\n\\n\\n\\n\"AI Enchanted Innovations\" is dedicated to combining practicality with the magic of AI, crafting a nurturing environment for your precious ones.', metadata={'source': 'crib_description.txt'})]"
      ]
     },
     "execution_count": 79,
     "metadata": {},
     "output_type": "execute_result"
    }
   ],
   "source": [
    "from langchain_community.document_loaders import TextLoader\n",
    "\n",
    "text_loader = TextLoader(\"crib_description.txt\")\n",
    "knowedge_base_documents = text_loader.load()\n",
    "knowedge_base_documents\n"
   ]
  },
  {
   "cell_type": "code",
   "execution_count": 80,
   "id": "d83603af-1598-4540-92a5-56d898a5dc15",
   "metadata": {},
   "outputs": [
    {
     "name": "stdout",
     "output_type": "stream",
     "text": [
      "5\n"
     ]
    },
    {
     "data": {
      "text/plain": [
       "[Document(page_content='Welcome to \"AI Enchanted Innovations,\" where the future of child care meets cutting-edge technology.', metadata={'source': 'crib_description.txt'}),\n",
       " Document(page_content='1. The TransformEase AI Convertible Crib\\nDescription: Our TransformEase AI Convertible Crib is the ultimate sleep solution that grows with your child. Engineered with AI technology to soothe your baby with gentle rocking motions and serene lullabies, it seamlessly transitions from crib to toddler bed.\\nDimensions: 54\" L x 29\" W x 34\" H.\\nWeight: 50 lbs.\\nPrice: $699.', metadata={'source': 'crib_description.txt'}),\n",
       " Document(page_content='2. The SerenityNest AI Baby Bassinet\\nDescription: The SerenityNest AI Baby Bassinet cradles your newborn in comfort with smart temperature regulation and motion-sensing night lights. Its compact design and whisper-quiet operation ensure a peaceful slumber.\\nDimensions: 33\" L x 17\" W x 39\" H.\\nWeight: 18 lbs.\\nPrice: $399.', metadata={'source': 'crib_description.txt'}),\n",
       " Document(page_content='3. The HiGrow AI High Chair\\nDescription: Introducing the HiGrow AI High Chair – a smart dining solution that adapts to your child\\'s growth. Equipped with spill-proof AI sensors, it facilitates tidy eating habits and offers interactive learning activities for mealtime fun.\\nDimensions: 22\" L x 21\" W x 37\" H.\\nWeight: 15 lbs.\\nPrice: $299.', metadata={'source': 'crib_description.txt'}),\n",
       " Document(page_content='\"AI Enchanted Innovations\" is dedicated to combining practicality with the magic of AI, crafting a nurturing environment for your precious ones.', metadata={'source': 'crib_description.txt'})]"
      ]
     },
     "execution_count": 80,
     "metadata": {},
     "output_type": "execute_result"
    }
   ],
   "source": [
    "from langchain.text_splitter import CharacterTextSplitter\n",
    "\n",
    "\n",
    "text_splitter_definition = CharacterTextSplitter(chunk_size=400)\n",
    "\n",
    "documents_after_splitting = text_splitter_definition.split_documents(knowedge_base_documents)\n",
    "print (len(documents_after_splitting))\n",
    "documents_after_splitting\n"
   ]
  },
  {
   "cell_type": "markdown",
   "id": "88b9daf6-9ebc-447d-aa33-cf6c2af88efb",
   "metadata": {},
   "source": [
    "#### Embed Documents and store in Vector Store"
   ]
  },
  {
   "cell_type": "code",
   "execution_count": 81,
   "id": "777e9d9b-8472-40c5-bf30-87931d921001",
   "metadata": {},
   "outputs": [],
   "source": [
    "from langchain_community.vectorstores import FAISS\n",
    "from langchain_openai import OpenAIEmbeddings\n",
    "\n",
    "openai_embeddings = OpenAIEmbeddings(openai_api_key=os.getenv(\"open_ai_secret_key\"))\n",
    "vector_db = FAISS.from_documents(documents_after_splitting, openai_embeddings)"
   ]
  },
  {
   "cell_type": "markdown",
   "id": "d38cee4f-5812-4511-b7ac-c456647007a1",
   "metadata": {},
   "source": [
    "### Sample queries "
   ]
  },
  {
   "cell_type": "code",
   "execution_count": 82,
   "id": "10d2047f-9986-49a3-b686-196714b82f75",
   "metadata": {},
   "outputs": [
    {
     "data": {
      "text/plain": [
       "(Document(page_content='1. The TransformEase AI Convertible Crib\\nDescription: Our TransformEase AI Convertible Crib is the ultimate sleep solution that grows with your child. Engineered with AI technology to soothe your baby with gentle rocking motions and serene lullabies, it seamlessly transitions from crib to toddler bed.\\nDimensions: 54\" L x 29\" W x 34\" H.\\nWeight: 50 lbs.\\nPrice: $699.', metadata={'source': 'crib_description.txt'}),\n",
       " 0.3756026)"
      ]
     },
     "execution_count": 82,
     "metadata": {},
     "output_type": "execute_result"
    }
   ],
   "source": [
    "query = \"\"\"describe the crib you have\"\"\"\n",
    "relevant_documents = vector_db.similarity_search_with_score(query)\n",
    "relevant_document_text = relevant_documents\n",
    "relevant_document_text\n",
    "relevant_document_text[0]\n"
   ]
  },
  {
   "cell_type": "code",
   "execution_count": 84,
   "id": "bd2093b6-208b-4bc9-bfcf-088d1aaf8dc1",
   "metadata": {},
   "outputs": [
    {
     "data": {
      "text/plain": [
       "(Document(page_content='3. The HiGrow AI High Chair\\nDescription: Introducing the HiGrow AI High Chair – a smart dining solution that adapts to your child\\'s growth. Equipped with spill-proof AI sensors, it facilitates tidy eating habits and offers interactive learning activities for mealtime fun.\\nDimensions: 22\" L x 21\" W x 37\" H.\\nWeight: 15 lbs.\\nPrice: $299.', metadata={'source': 'crib_description.txt'}),\n",
       " 0.5302745)"
      ]
     },
     "execution_count": 84,
     "metadata": {},
     "output_type": "execute_result"
    }
   ],
   "source": [
    "query = \"\"\"describe the computer desk you have\"\"\"\n",
    "relevant_documents = vector_db.similarity_search_with_score(query)\n",
    "relevant_document_text = relevant_documents\n",
    "relevant_document_text[0]"
   ]
  },
  {
   "cell_type": "markdown",
   "id": "9927d0eb-50c3-4c4b-8051-6ae90fd8f415",
   "metadata": {},
   "source": [
    "### Retreive similar content from Vector db"
   ]
  },
  {
   "cell_type": "code",
   "execution_count": 108,
   "id": "90bb09db-8ea3-440c-baa6-f4b2674c2ec9",
   "metadata": {},
   "outputs": [
    {
     "data": {
      "text/plain": [
       "'Sorry!, We do not sell such product'"
      ]
     },
     "execution_count": 108,
     "metadata": {},
     "output_type": "execute_result"
    }
   ],
   "source": [
    "def get_relevant_content(query):\n",
    "    relevant_documents = vector_db.similarity_search_with_score(query)\n",
    "    relevant_document_text = relevant_documents[0][0].page_content\n",
    "    relevant_document_score = relevant_documents[0][1]\n",
    "    #print (relevant_document_text)\n",
    "    #print (relevant_document_score)\n",
    "    if relevant_document_score < 0.40:\n",
    "        return relevant_document_text\n",
    "    else:\n",
    "        return \"Sorry!, We do not sell such product\"\n",
    "    #relevant_content = relevant_document_text[0].page_content\n",
    "    #return relevant_content\n",
    "\n",
    "get_relevant_content(query)"
   ]
  },
  {
   "cell_type": "code",
   "execution_count": 106,
   "id": "e0e5f062-8ae9-4b23-bcf2-34261d179d9b",
   "metadata": {},
   "outputs": [
    {
     "name": "stdout",
     "output_type": "stream",
     "text": [
      "Running on local URL:  http://127.0.0.1:7889\n",
      "\n",
      "To create a public link, set `share=True` in `launch()`.\n"
     ]
    },
    {
     "data": {
      "text/html": [
       "<div><iframe src=\"http://127.0.0.1:7889/\" width=\"100%\" height=\"500\" allow=\"autoplay; camera; microphone; clipboard-read; clipboard-write;\" frameborder=\"0\" allowfullscreen></iframe></div>"
      ],
      "text/plain": [
       "<IPython.core.display.HTML object>"
      ]
     },
     "metadata": {},
     "output_type": "display_data"
    },
    {
     "data": {
      "text/plain": []
     },
     "execution_count": 106,
     "metadata": {},
     "output_type": "execute_result"
    },
    {
     "name": "stdout",
     "output_type": "stream",
     "text": [
      "1. The TransformEase AI Convertible Crib\n",
      "Description: Our TransformEase AI Convertible Crib is the ultimate sleep solution that grows with your child. Engineered with AI technology to soothe your baby with gentle rocking motions and serene lullabies, it seamlessly transitions from crib to toddler bed.\n",
      "Dimensions: 54\" L x 29\" W x 34\" H.\n",
      "Weight: 50 lbs.\n",
      "Price: $699.\n",
      "0.3756026\n",
      "3. The HiGrow AI High Chair\n",
      "Description: Introducing the HiGrow AI High Chair – a smart dining solution that adapts to your child's growth. Equipped with spill-proof AI sensors, it facilitates tidy eating habits and offers interactive learning activities for mealtime fun.\n",
      "Dimensions: 22\" L x 21\" W x 37\" H.\n",
      "Weight: 15 lbs.\n",
      "Price: $299.\n",
      "0.5302745\n",
      "1. The TransformEase AI Convertible Crib\n",
      "Description: Our TransformEase AI Convertible Crib is the ultimate sleep solution that grows with your child. Engineered with AI technology to soothe your baby with gentle rocking motions and serene lullabies, it seamlessly transitions from crib to toddler bed.\n",
      "Dimensions: 54\" L x 29\" W x 34\" H.\n",
      "Weight: 50 lbs.\n",
      "Price: $699.\n",
      "0.32883188\n",
      "3. The HiGrow AI High Chair\n",
      "Description: Introducing the HiGrow AI High Chair – a smart dining solution that adapts to your child's growth. Equipped with spill-proof AI sensors, it facilitates tidy eating habits and offers interactive learning activities for mealtime fun.\n",
      "Dimensions: 22\" L x 21\" W x 37\" H.\n",
      "Weight: 15 lbs.\n",
      "Price: $299.\n",
      "0.28644848\n",
      "3. The HiGrow AI High Chair\n",
      "Description: Introducing the HiGrow AI High Chair – a smart dining solution that adapts to your child's growth. Equipped with spill-proof AI sensors, it facilitates tidy eating habits and offers interactive learning activities for mealtime fun.\n",
      "Dimensions: 22\" L x 21\" W x 37\" H.\n",
      "Weight: 15 lbs.\n",
      "Price: $299.\n",
      "0.65679204\n",
      "1. The TransformEase AI Convertible Crib\n",
      "Description: Our TransformEase AI Convertible Crib is the ultimate sleep solution that grows with your child. Engineered with AI technology to soothe your baby with gentle rocking motions and serene lullabies, it seamlessly transitions from crib to toddler bed.\n",
      "Dimensions: 54\" L x 29\" W x 34\" H.\n",
      "Weight: 50 lbs.\n",
      "Price: $699.\n",
      "0.3756026\n",
      "1. The TransformEase AI Convertible Crib\n",
      "Description: Our TransformEase AI Convertible Crib is the ultimate sleep solution that grows with your child. Engineered with AI technology to soothe your baby with gentle rocking motions and serene lullabies, it seamlessly transitions from crib to toddler bed.\n",
      "Dimensions: 54\" L x 29\" W x 34\" H.\n",
      "Weight: 50 lbs.\n",
      "Price: $699.\n",
      "0.3756026\n",
      "1. The TransformEase AI Convertible Crib\n",
      "Description: Our TransformEase AI Convertible Crib is the ultimate sleep solution that grows with your child. Engineered with AI technology to soothe your baby with gentle rocking motions and serene lullabies, it seamlessly transitions from crib to toddler bed.\n",
      "Dimensions: 54\" L x 29\" W x 34\" H.\n",
      "Weight: 50 lbs.\n",
      "Price: $699.\n",
      "0.3756026\n",
      "3. The HiGrow AI High Chair\n",
      "Description: Introducing the HiGrow AI High Chair – a smart dining solution that adapts to your child's growth. Equipped with spill-proof AI sensors, it facilitates tidy eating habits and offers interactive learning activities for mealtime fun.\n",
      "Dimensions: 22\" L x 21\" W x 37\" H.\n",
      "Weight: 15 lbs.\n",
      "Price: $299.\n",
      "0.5302745\n",
      "3. The HiGrow AI High Chair\n",
      "Description: Introducing the HiGrow AI High Chair – a smart dining solution that adapts to your child's growth. Equipped with spill-proof AI sensors, it facilitates tidy eating habits and offers interactive learning activities for mealtime fun.\n",
      "Dimensions: 22\" L x 21\" W x 37\" H.\n",
      "Weight: 15 lbs.\n",
      "Price: $299.\n",
      "0.2885489\n",
      "3. The HiGrow AI High Chair\n",
      "Description: Introducing the HiGrow AI High Chair – a smart dining solution that adapts to your child's growth. Equipped with spill-proof AI sensors, it facilitates tidy eating habits and offers interactive learning activities for mealtime fun.\n",
      "Dimensions: 22\" L x 21\" W x 37\" H.\n",
      "Weight: 15 lbs.\n",
      "Price: $299.\n",
      "0.30217725\n",
      "2. The SerenityNest AI Baby Bassinet\n",
      "Description: The SerenityNest AI Baby Bassinet cradles your newborn in comfort with smart temperature regulation and motion-sensing night lights. Its compact design and whisper-quiet operation ensure a peaceful slumber.\n",
      "Dimensions: 33\" L x 17\" W x 39\" H.\n",
      "Weight: 18 lbs.\n",
      "Price: $399.\n",
      "0.32962453\n",
      "2. The SerenityNest AI Baby Bassinet\n",
      "Description: The SerenityNest AI Baby Bassinet cradles your newborn in comfort with smart temperature regulation and motion-sensing night lights. Its compact design and whisper-quiet operation ensure a peaceful slumber.\n",
      "Dimensions: 33\" L x 17\" W x 39\" H.\n",
      "Weight: 18 lbs.\n",
      "Price: $399.\n",
      "0.2829638\n",
      "Welcome to \"AI Enchanted Innovations,\" where the future of child care meets cutting-edge technology.\n",
      "0.6501242\n"
     ]
    }
   ],
   "source": [
    "import gradio as gr\n",
    "import os\n",
    "\n",
    "from langchain_openai import ChatOpenAI\n",
    "from langchain_core.messages import HumanMessage, SystemMessage\n",
    "\n",
    "chat = ChatOpenAI(openai_api_key=os.getenv(\"open_ai_secret_key\"))\n",
    "\n",
    "def chat_with_customer(message, history):\n",
    "    chat_history = []\n",
    "    for human_message, ai_message in history:\n",
    "        chat_history.append(HumanMessage(content=human_message))\n",
    "        chat_history.append(AIMessage(content=ai_message))\n",
    "    relevant_document_text = get_relevant_content(message)\n",
    "    #print ('relevant_document_text',relevant_document_text)\n",
    "    \n",
    "    augmented_query = message + \"\\nalso use below text as reference before answering. \\n\" + relevant_document_text\n",
    "    if relevant_document_text == 'Sorry!, We do not sell such product':\n",
    "        chat_history = []\n",
    "        llm_response = relevant_document_text\n",
    "    else:\n",
    "        chat_history.append(HumanMessage(content=augmented_query))\n",
    "        #print ('chat_history',chat_history)\n",
    "        llm_response = chat.invoke(chat_history).content\n",
    "    return llm_response\n",
    "    \n",
    "gr.ChatInterface(chat_with_customer).launch()"
   ]
  },
  {
   "cell_type": "code",
   "execution_count": null,
   "id": "51875652-8890-4473-9208-aa3a7975404a",
   "metadata": {},
   "outputs": [],
   "source": []
  },
  {
   "cell_type": "code",
   "execution_count": null,
   "id": "409e74bf-cc80-42c6-9248-27387f468784",
   "metadata": {},
   "outputs": [],
   "source": []
  },
  {
   "cell_type": "code",
   "execution_count": null,
   "id": "f5693f0b-9c3f-480d-a9f6-37ac0690735b",
   "metadata": {},
   "outputs": [],
   "source": []
  },
  {
   "cell_type": "code",
   "execution_count": null,
   "id": "583db8fb-a66d-49a4-a649-32eae8697fb1",
   "metadata": {},
   "outputs": [],
   "source": []
  },
  {
   "cell_type": "code",
   "execution_count": null,
   "id": "4d91782d-a5ad-45eb-915e-d44d03e806d1",
   "metadata": {},
   "outputs": [],
   "source": []
  },
  {
   "cell_type": "code",
   "execution_count": null,
   "id": "b2c9a4f2-e19b-47f8-b1a2-f39c4ab0d701",
   "metadata": {},
   "outputs": [],
   "source": []
  },
  {
   "cell_type": "code",
   "execution_count": null,
   "id": "97f8d660-a7b1-4d94-8e8b-f85de099e76b",
   "metadata": {},
   "outputs": [],
   "source": []
  }
 ],
 "metadata": {
  "kernelspec": {
   "display_name": "Python 3 (ipykernel)",
   "language": "python",
   "name": "python3"
  },
  "language_info": {
   "codemirror_mode": {
    "name": "ipython",
    "version": 3
   },
   "file_extension": ".py",
   "mimetype": "text/x-python",
   "name": "python",
   "nbconvert_exporter": "python",
   "pygments_lexer": "ipython3",
   "version": "3.9.4"
  }
 },
 "nbformat": 4,
 "nbformat_minor": 5
}
